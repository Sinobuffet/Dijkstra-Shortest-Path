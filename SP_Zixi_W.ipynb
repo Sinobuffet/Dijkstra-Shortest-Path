{
 "cells": [
  {
   "cell_type": "code",
   "execution_count": 1,
   "id": "7d24293c",
   "metadata": {},
   "outputs": [
    {
     "name": "stdout",
     "output_type": "stream",
     "text": [
      "Which vertex do you want to start(start from 1) ? Node: 1\n",
      "Node itself\n",
      "The shortest length from Node 1 to Node 2 is 2\n",
      "The shortest length from Node 1 to Node 3 is 3\n",
      "The shortest length from Node 1 to Node 4 is 4\n",
      "The shortest length from Node 1 to Node 5 is 4\n",
      "The shortest length from Node 1 to Node 6 is 6\n"
     ]
    }
   ],
   "source": [
    "from numpy import *\n",
    "\n",
    "def startwith(start: int, adj: list) -> list:\n",
    "    passed = [start]\n",
    "    nopass = [x for x in range(len(adj)) if x != start]\n",
    "    dis = adj[start]\n",
    "    \n",
    "    while len(nopass):\n",
    "        idx = nopass[0]\n",
    "        for i in nopass:\n",
    "            if dis[i] < dis[idx]: idx = i\n",
    "\n",
    "        nopass.remove(idx)\n",
    "        passed.append(idx)\n",
    "\n",
    "        for i in nopass:\n",
    "            if dis[idx] + adj[idx][i] < dis[i]: dis[i] = dis[idx] + adj[idx][i]\n",
    "    return dis\n",
    "\n",
    "adj = loadtxt(\"graph_directed.txt\", delimiter=',')\n",
    "place(adj,adj == 0,float('inf'))\n",
    "fill_diagonal(adj, 0)\n",
    " \n",
    "s = int(input(\"Which vertex do you want to start(start from 1) ? Node: \" ))-1\n",
    "\n",
    "dis = startwith(s, adj)\n",
    "for j in range(len(adj)):\n",
    "    if dis[j] == 0:\n",
    "        print (\"Node itself\")\n",
    "    elif dis[j] == inf:\n",
    "        print (\"There is no path between Node\",s+1,\"and\",j+1, \",They cannot be reached\")\n",
    "    else:\n",
    "        print(\"The shortest length from Node\" ,s+1, \"to Node\" ,j+1, \"is\" ,'%d'%dis[j])\n",
    "\n"
   ]
  }
 ],
 "metadata": {
  "kernelspec": {
   "display_name": "Python 3 (ipykernel)",
   "language": "python",
   "name": "python3"
  },
  "language_info": {
   "codemirror_mode": {
    "name": "ipython",
    "version": 3
   },
   "file_extension": ".py",
   "mimetype": "text/x-python",
   "name": "python",
   "nbconvert_exporter": "python",
   "pygments_lexer": "ipython3",
   "version": "3.9.7"
  }
 },
 "nbformat": 4,
 "nbformat_minor": 5
}
